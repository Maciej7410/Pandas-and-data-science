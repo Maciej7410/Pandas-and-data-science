{
  "nbformat": 4,
  "nbformat_minor": 0,
  "metadata": {
    "colab": {
      "provenance": [],
      "collapsed_sections": [],
      "authorship_tag": "ABX9TyM7OZHU2d9139Hi4T7l92z8",
      "include_colab_link": true
    },
    "kernelspec": {
      "name": "python3",
      "display_name": "Python 3"
    },
    "language_info": {
      "name": "python"
    }
  },
  "cells": [
    {
      "cell_type": "markdown",
      "metadata": {
        "id": "view-in-github",
        "colab_type": "text"
      },
      "source": [
        "<a href=\"https://colab.research.google.com/github/Maciej7410/Pandas-and-data-science/blob/main/Pandas_1.ipynb\" target=\"_parent\"><img src=\"https://colab.research.google.com/assets/colab-badge.svg\" alt=\"Open In Colab\"/></a>"
      ]
    },
    {
      "cell_type": "code",
      "execution_count": null,
      "metadata": {
        "id": "JF8WD7f_nj9i"
      },
      "outputs": [],
      "source": []
    },
    {
      "cell_type": "markdown",
      "source": [
        "# Learning Pandas and Numpy libraly\n",
        "- [Download librales](#scrollTo=import)\n",
        "- [Numpy - typy danych](#scrollTo=numpy)\n",
        "- [Działania na tablicach](#scrollTo=dzialania)"
      ],
      "metadata": {
        "id": "CyC4C6zjo7sK"
      }
    },
    {
      "cell_type": "code",
      "source": [],
      "metadata": {
        "id": "E3vZq3QmpkDT"
      },
      "execution_count": null,
      "outputs": []
    },
    {
      "cell_type": "markdown",
      "source": [
        "# Import"
      ],
      "metadata": {
        "id": "TgiZM8Jopm2y"
      }
    },
    {
      "cell_type": "code",
      "source": [
        "import pandas as pd\n",
        "import numpy as np\n"
      ],
      "metadata": {
        "id": "1rmc3UsrpqQa"
      },
      "execution_count": 1,
      "outputs": []
    },
    {
      "cell_type": "markdown",
      "source": [
        "# Numpy\n",
        "Tworzenie tablic"
      ],
      "metadata": {
        "id": "I6TyLoOsv9Yu"
      }
    },
    {
      "cell_type": "code",
      "source": [
        "A = np.array([2,3,4,5], dtype='float')\n",
        "B = np.array([123,123,124], dtype=np.uint8) # możemy narzucić 8 bitową liczbę aby oszczędzić pamięć u - od zera\n",
        "C = np.array([True,True,False])\n",
        "A.shape # wypisuje rozmiar tablicy \n",
        "B.dtype, A.dtype, C.dtype"
      ],
      "metadata": {
        "colab": {
          "base_uri": "https://localhost:8080/"
        },
        "id": "cVloGvYgwBwu",
        "outputId": "f69552ac-2125-47e9-94f1-98ac11b6e7af"
      },
      "execution_count": 16,
      "outputs": [
        {
          "output_type": "execute_result",
          "data": {
            "text/plain": [
              "((4,), dtype('uint8'), dtype('float64'), dtype('bool'))"
            ]
          },
          "metadata": {},
          "execution_count": 16
        }
      ]
    },
    {
      "cell_type": "code",
      "source": [
        "np.zeros(shape=(5,5),dtype='int') # tworzy tablicę z samymi zerami typ danych domyślnych float\n",
        "np.ones(shape=(5,5)) # wstawia same jedynki\n",
        "np.full(shape=(3,3), fill_value='pa')\n",
        "np.arange(10) # tworzy dane tak jak range w pythonie\n",
        "np.arange(start=45, stop=23, step=-2)\n",
        "np.linspace(start=0, stop=1, num=10) # tworzy tablicę o równych wartościach o num ilości elementów\n",
        "A = np.arange(15)\n",
        "B = A.reshape((3,5)) # przetwarza tablicę na wymagany wymiar - jak nie będzie to możliwe wyświetli błąd\n",
        "B.reshape(3,-1) # tworzy tablicę o 2 wierszach a -1 oznacza że python stworzy taką tablicę jak będzie istniała\n",
        "\n"
      ],
      "metadata": {
        "colab": {
          "base_uri": "https://localhost:8080/"
        },
        "id": "t5juD6WPwWky",
        "outputId": "0f5a21a7-e652-423d-e738-954732128f11"
      },
      "execution_count": 52,
      "outputs": [
        {
          "output_type": "execute_result",
          "data": {
            "text/plain": [
              "array([[ 0,  1,  2,  3,  4],\n",
              "       [ 5,  6,  7,  8,  9],\n",
              "       [10, 11, 12, 13, 14]])"
            ]
          },
          "metadata": {},
          "execution_count": 52
        }
      ]
    },
    {
      "cell_type": "code",
      "source": [],
      "metadata": {
        "colab": {
          "base_uri": "https://localhost:8080/"
        },
        "id": "b7djKeXUyv8_",
        "outputId": "ef59a9e5-f2a1-4256-d629-ee6c5c922247"
      },
      "execution_count": 49,
      "outputs": [
        {
          "output_type": "execute_result",
          "data": {
            "text/plain": [
              "array([[ 0,  1,  2,  3,  4],\n",
              "       [ 5,  6,  7,  8,  9],\n",
              "       [10, 11, 12, 13, 14]])"
            ]
          },
          "metadata": {},
          "execution_count": 49
        }
      ]
    },
    {
      "cell_type": "markdown",
      "source": [
        "# Dzialania\n",
        "### Działania na tablicach"
      ],
      "metadata": {
        "id": "lY2GRvJ-7D_C"
      }
    },
    {
      "cell_type": "markdown",
      "source": [],
      "metadata": {
        "id": "b5BT3wLe7CLf"
      }
    },
    {
      "cell_type": "code",
      "source": [
        "A = np.array([2, 5, 8, 9])\n",
        "B = np.array([4, -2, 1, 6])\n",
        "A*B # możemy + - * / tablicę\n",
        "A+3\n",
        "C = A+3*B\n",
        "print(A,B,C)\n",
        "np.add()"
      ],
      "metadata": {
        "colab": {
          "base_uri": "https://localhost:8080/"
        },
        "id": "Zs-EcbB23ZEY",
        "outputId": "1a1c9cdf-ad8e-4885-efcd-b547113895ad"
      },
      "execution_count": 60,
      "outputs": [
        {
          "output_type": "stream",
          "name": "stdout",
          "text": [
            "[2 5 8 9] [ 4 -2  1  6] [14 -1 11 27]\n"
          ]
        }
      ]
    },
    {
      "cell_type": "code",
      "source": [
        "A/B"
      ],
      "metadata": {
        "colab": {
          "base_uri": "https://localhost:8080/"
        },
        "id": "JLUcbsoS7o6o",
        "outputId": "3f6c3880-030e-4850-982d-5aa21ef2fbe9"
      },
      "execution_count": 58,
      "outputs": [
        {
          "output_type": "execute_result",
          "data": {
            "text/plain": [
              "array([ 0.5, -2.5,  8. ,  1.5])"
            ]
          },
          "metadata": {},
          "execution_count": 58
        }
      ]
    },
    {
      "cell_type": "code",
      "source": [],
      "metadata": {
        "id": "tuEcqKP_9knv"
      },
      "execution_count": null,
      "outputs": []
    }
  ]
}